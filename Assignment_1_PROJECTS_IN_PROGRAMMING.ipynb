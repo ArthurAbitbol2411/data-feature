{
  "nbformat": 4,
  "nbformat_minor": 0,
  "metadata": {
    "colab": {
      "provenance": [],
      "authorship_tag": "ABX9TyND/BCUMojr4PjQjnKYg7RO",
      "include_colab_link": true
    },
    "kernelspec": {
      "name": "python3",
      "display_name": "Python 3"
    },
    "language_info": {
      "name": "python"
    }
  },
  "cells": [
    {
      "cell_type": "markdown",
      "metadata": {
        "id": "view-in-github",
        "colab_type": "text"
      },
      "source": [
        "<a href=\"https://colab.research.google.com/github/ArthurAbitbol2411/data-feature/blob/main/Assignment_1_PROJECTS_IN_PROGRAMMING.ipynb\" target=\"_parent\"><img src=\"https://colab.research.google.com/assets/colab-badge.svg\" alt=\"Open In Colab\"/></a>"
      ]
    },
    {
      "cell_type": "markdown",
      "source": [
        "Setting up API keys"
      ],
      "metadata": {
        "id": "NPq9NhFt5RUW"
      }
    },
    {
      "cell_type": "markdown",
      "source": [
        "API KEYS:\n",
        "\n",
        "ALPHAVANTAGE: HPJSK9H92V1RZOCR\n",
        "\n",
        "NYTIMES: DHG20dTPLkD4YKLODhC3jB79dCZDZBVk\n"
      ],
      "metadata": {
        "id": "CpYZqWQwPe9j"
      }
    },
    {
      "cell_type": "markdown",
      "source": [
        "https://github.com/ArthurAbitbol2411/data-feature.git"
      ],
      "metadata": {
        "id": "dISCojd7KXFR"
      }
    },
    {
      "cell_type": "code",
      "execution_count": null,
      "metadata": {
        "colab": {
          "base_uri": "https://localhost:8080/"
        },
        "id": "Z4lBsmQlrS4X",
        "outputId": "b85cedc4-d1a3-4ddf-ecf4-5e558ff6decd"
      },
      "outputs": [
        {
          "output_type": "stream",
          "name": "stdout",
          "text": [
            "NYTimes key retrieved successfully\n",
            "AlphaVantage key retrieved successfully\n"
          ]
        }
      ],
      "source": [
        "from google.colab import userdata\n",
        "\n",
        "NYTIMES_API = userdata.get('NYTIMES_API')\n",
        "ALPHA_VANTAGE_API = userdata.get('ALPHA_VANTAGE_API')\n",
        "\n",
        "if NYTIMES_API:\n",
        "  print('NYTimes key retrieved successfully')\n",
        "else:\n",
        "  print('Could not retrieve a correct API Key')\n",
        "\n",
        "if ALPHA_VANTAGE_API:\n",
        "  print('AlphaVantage key retrieved successfully')\n",
        "else:\n",
        "  print('Could not retrieve a correct API Key')\n"
      ]
    },
    {
      "cell_type": "markdown",
      "source": [
        "Convert a ticker to a company name"
      ],
      "metadata": {
        "id": "bGNWB3sg5ITA"
      }
    },
    {
      "cell_type": "code",
      "source": [
        "import requests\n",
        "\n",
        "# replace the \"demo\" apikey below with your own key from https://www.alphavantage.co/support/#api-key\n",
        "url = f'https://www.alphavantage.co/query?function=SYMBOL_SEARCH&keywords=tesco&apikey={ALPHA_VANATGE_API}'\n",
        "r = requests.get(url)\n",
        "data = r.json()\n",
        "\n",
        "print(data)\n"
      ],
      "metadata": {
        "colab": {
          "base_uri": "https://localhost:8080/"
        },
        "id": "9MbyFom85NcC",
        "outputId": "25196336-04ab-4ea6-955b-4f0ef19f1d19"
      },
      "execution_count": null,
      "outputs": [
        {
          "output_type": "stream",
          "name": "stdout",
          "text": [
            "{'bestMatches': [{'1. symbol': 'TSCO.LON', '2. name': 'Tesco PLC', '3. type': 'Equity', '4. region': 'United Kingdom', '5. marketOpen': '08:00', '6. marketClose': '16:30', '7. timezone': 'UTC+01', '8. currency': 'GBX', '9. matchScore': '0.7273'}, {'1. symbol': 'TSCDF', '2. name': 'Tesco plc', '3. type': 'Equity', '4. region': 'United States', '5. marketOpen': '09:30', '6. marketClose': '16:00', '7. timezone': 'UTC-04', '8. currency': 'USD', '9. matchScore': '0.7143'}, {'1. symbol': 'TSCDY', '2. name': 'Tesco plc', '3. type': 'Equity', '4. region': 'United States', '5. marketOpen': '09:30', '6. marketClose': '16:00', '7. timezone': 'UTC-04', '8. currency': 'USD', '9. matchScore': '0.7143'}, {'1. symbol': 'TCO2.FRK', '2. name': 'TESCO PLC ADR/1 LS-05', '3. type': 'Equity', '4. region': 'Frankfurt', '5. marketOpen': '08:00', '6. marketClose': '20:00', '7. timezone': 'UTC+02', '8. currency': 'EUR', '9. matchScore': '0.5455'}, {'1. symbol': 'TCO0.FRK', '2. name': 'TESCO PLC LS-0633333', '3. type': 'Equity', '4. region': 'Frankfurt', '5. marketOpen': '08:00', '6. marketClose': '20:00', '7. timezone': 'UTC+02', '8. currency': 'EUR', '9. matchScore': '0.5455'}]}\n"
          ]
        }
      ]
    },
    {
      "cell_type": "markdown",
      "source": [
        "Converting a ticket to a company name"
      ],
      "metadata": {
        "id": "hZA-AQrI7TIk"
      }
    },
    {
      "cell_type": "code",
      "source": [
        "import requests\n",
        "\n",
        "def get_company_name(ticker):\n",
        "  url = f'https://www.alphavantage.co/query?function=SYMBOL_SEARCH&keywords={ticker}&apikey={ALPHA_VANATGE_API}'\n",
        "  response = requests.get(url)\n",
        "  data = response.json()\n",
        "\n",
        "  if 'bestMatches' in data and data['bestMatches']:\n",
        "    return data ['bestMatches'][0]['2. name']\n",
        "  else:\n",
        "    print('Company name not found')\n",
        "    return None\n",
        "\n",
        "ticker='AAPL'\n",
        "company_name = get_company_name(ticker)\n",
        "\n",
        "print(company_name)\n"
      ],
      "metadata": {
        "colab": {
          "base_uri": "https://localhost:8080/"
        },
        "id": "uzr6PLZa7MYV",
        "outputId": "f7ad2f0c-ffdc-4e25-dc17-25e4c9bd068e"
      },
      "execution_count": null,
      "outputs": [
        {
          "output_type": "stream",
          "name": "stdout",
          "text": [
            "Apple Inc\n"
          ]
        }
      ]
    },
    {
      "cell_type": "markdown",
      "source": [
        "Create a function that returns the articles for a company"
      ],
      "metadata": {
        "id": "MGemUrv4_WxU"
      }
    },
    {
      "cell_type": "code",
      "source": [
        "import requests\n",
        "\n",
        "def search_articles(company_name):\n",
        "  url = f' https://api.nytimes.com/svc/search/v2/articlesearch.json?q={company_name}&api-key={NYTIMES_API}'\n",
        "  response = requests.get(url)\n",
        "  if response.status_code == 200:\n",
        "    data = response.json()\n",
        "\n",
        "    return data ['response']['docs']\n",
        "  else:\n",
        "    print('Articles not found')\n",
        "    return None\n",
        "\n",
        "\n",
        "print(search_articles(x))\n"
      ],
      "metadata": {
        "colab": {
          "base_uri": "https://localhost:8080/",
          "height": 180
        },
        "id": "M7a6D9PK_MZ9",
        "outputId": "adfb4286-1613-471d-c0f6-5787fa00c85f"
      },
      "execution_count": 2,
      "outputs": [
        {
          "output_type": "error",
          "ename": "NameError",
          "evalue": "name 'x' is not defined",
          "traceback": [
            "\u001b[0;31m---------------------------------------------------------------------------\u001b[0m",
            "\u001b[0;31mNameError\u001b[0m                                 Traceback (most recent call last)",
            "\u001b[0;32m<ipython-input-2-b7df50a7d33d>\u001b[0m in \u001b[0;36m<cell line: 15>\u001b[0;34m()\u001b[0m\n\u001b[1;32m     13\u001b[0m \u001b[0;34m\u001b[0m\u001b[0m\n\u001b[1;32m     14\u001b[0m \u001b[0;34m\u001b[0m\u001b[0m\n\u001b[0;32m---> 15\u001b[0;31m \u001b[0mprint\u001b[0m\u001b[0;34m(\u001b[0m\u001b[0msearch_articles\u001b[0m\u001b[0;34m(\u001b[0m\u001b[0mx\u001b[0m\u001b[0;34m)\u001b[0m\u001b[0;34m)\u001b[0m\u001b[0;34m\u001b[0m\u001b[0;34m\u001b[0m\u001b[0m\n\u001b[0m",
            "\u001b[0;31mNameError\u001b[0m: name 'x' is not defined"
          ]
        }
      ]
    },
    {
      "cell_type": "markdown",
      "source": [
        "Putting it all into one function"
      ],
      "metadata": {
        "id": "Tm_yt4Z0BKNb"
      }
    },
    {
      "cell_type": "code",
      "source": [
        "def get_articles_for_ticker(ticker):\n",
        "  company_name = get_company_name(ticker)\n",
        "  if company_name:\n",
        "    articles = search_articles(company_name)\n",
        "    return articles\n",
        "  else:\n",
        "    return None\n",
        "\n",
        "def display_articles(articles):\n",
        "  if articles:\n",
        "    print(f'found {len(articles)} articles')\n",
        "    for article in articles:\n",
        "      print(f\"Title: {article['headline']['main']}\")\n",
        "      print(f\"URL:{article['web_url']}\\n\")\n",
        "  else:\n",
        "    print('No articles found')\n",
        "\n",
        "\n",
        "ticker = input('Enter a stock ticker symbol')\n",
        "articles = get_articles_for_ticker(ticker)\n",
        "display_articles(articles)"
      ],
      "metadata": {
        "colab": {
          "base_uri": "https://localhost:8080/"
        },
        "id": "zI7KfqIwBMHw",
        "outputId": "8e40a689-84d3-48b2-f151-1f8adbff5cba"
      },
      "execution_count": 37,
      "outputs": [
        {
          "output_type": "stream",
          "name": "stdout",
          "text": [
            "Enter a stock ticker symbolNVDA\n",
            "found 10 articles\n",
            "Title: Apple and Nvidia in Talks to Invest in OpenAI\n",
            "URL:https://www.nytimes.com/2024/08/29/technology/apple-nvidia-openai.html\n",
            "\n",
            "Title: Takeaways From Our Investigation Into Banned A.I. Chips in China\n",
            "URL:https://www.nytimes.com/2024/08/04/technology/china-ai-microchips-takeaways.html\n",
            "\n",
            "Title: With Smugglers and Front Companies, China Is Skirting American A.I. Bans\n",
            "URL:https://www.nytimes.com/2024/08/04/technology/china-ai-microchips.html\n",
            "\n",
            "Title: Nvidia Becomes Most Valuable Public Company, Topping Microsoft\n",
            "URL:https://www.nytimes.com/2024/06/18/technology/nvidia-most-valuable-company.html\n",
            "\n",
            "Title: U.S. Clears Way for Antitrust Inquiries of Nvidia, Microsoft and OpenAI\n",
            "URL:https://www.nytimes.com/2024/06/05/technology/nvidia-microsoft-openai-antitrust-doj-ftc.html\n",
            "\n",
            "Title: Wayve, an A.I. Start-Up for Autonomous Driving, Raises $1 Billion\n",
            "URL:https://www.nytimes.com/2024/05/06/technology/wayve-ai-self-driving-vehicles.html\n",
            "\n",
            "Title: If Nvidia Keeps Rising Like This, It Will Be Bigger Than the Global Economy\n",
            "URL:https://www.nytimes.com/2024/03/15/business/nvidia-stock-market-ai-bubble.html\n",
            "\n",
            "Title: NVIDIA SHARES SURGE AFTER STRONG SALES FORECAST\n",
            "URL:https://www.nytimes.com/2003/05/10/business/company-news-nvidia-shares-surge-after-strong-sales-forecast.html\n",
            "\n",
            "Title: Technology Briefing | Hardware: Nvidia Shares Jump On Forecast\n",
            "URL:https://www.nytimes.com/2002/04/30/business/technology-briefing-hardware-nvidia-shares-jump-on-forecast.html\n",
            "\n",
            "Title: Technology Briefing | Hardware: Nvidia First-Quarter Profit Triples\n",
            "URL:https://www.nytimes.com/2005/05/13/business/technology-briefing-hardware-nvidia-firstquarter-profit-triples.html\n",
            "\n"
          ]
        }
      ]
    }
  ]
}